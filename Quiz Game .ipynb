{
 "cells": [
  {
   "cell_type": "code",
   "execution_count": 5,
   "id": "79fc4b84-aa0f-4be7-8f8b-d04db18d269a",
   "metadata": {},
   "outputs": [
    {
     "name": "stdout",
     "output_type": "stream",
     "text": [
      "What is the best anime among these?\n",
      "A. Bleach\n",
      "B. Black Clover\n",
      "C. Spy x Family\n",
      "D. weathering with you\n"
     ]
    },
    {
     "name": "stdin",
     "output_type": "stream",
     "text": [
      "Enter your option =>  A\n"
     ]
    },
    {
     "name": "stdout",
     "output_type": "stream",
     "text": [
      "You crack it. awesome!\n",
      "\n",
      "You score 1 a out of 4\n",
      "Which is the highest IMDB rating movie of 2024\n",
      "A. Arora\n",
      "B. Dune: Part two \n",
      "C. Wricked\n",
      "D. The wild rorbot\n"
     ]
    },
    {
     "name": "stdin",
     "output_type": "stream",
     "text": [
      "Enter your option =>  B\n"
     ]
    },
    {
     "name": "stdout",
     "output_type": "stream",
     "text": [
      "You crack it. awesome!\n",
      "\n",
      "You score 2 a out of 4\n",
      "It's not length od life, but depth of life Who is the author of the quote\n",
      "A. Peterson\n",
      "B. Robert downey jr \n",
      "C. Ralph Waldo Emerson\n",
      "D. Akash Kumar\n"
     ]
    },
    {
     "name": "stdin",
     "output_type": "stream",
     "text": [
      "Enter your option =>  C\n"
     ]
    },
    {
     "name": "stdout",
     "output_type": "stream",
     "text": [
      "You crack it. awesome!\n",
      "\n",
      "You score 3 a out of 4\n",
      "It's not what happens to you,but how you react to it that matters\n",
      "A. Epictetus\n",
      "B. Mark TwaiBn\n",
      "C. J.K. Rowling\n",
      "D. Ernest Hemingway\n"
     ]
    },
    {
     "name": "stdin",
     "output_type": "stream",
     "text": [
      "Enter your option =>  A\n"
     ]
    },
    {
     "name": "stdout",
     "output_type": "stream",
     "text": [
      "You crack it. awesome!\n",
      "\n",
      "You score 4 a out of 4\n"
     ]
    }
   ],
   "source": [
    "Questions = [\n",
    "    {\n",
    "        \"Question\": \"What is the best anime among these?\",\n",
    "        \"option\": [\"A. Bleach\", \"B. Black Clover\", \"C. Spy x Family\", \"D. weathering with you\"],\n",
    "        \"answer\": \"A\"\n",
    "    },\n",
    "    {\n",
    "        \"Question\": \"Which is the highest IMDB rating movie of 2024\",\n",
    "        \"option\": [\"A. Arora\", \"B. Dune: Part two \", \"C. Wricked\", \"D. The wild rorbot\"],\n",
    "        \"answer\": \"B\"\n",
    "    },\n",
    "    {\n",
    "        \"Question\": \"It's not length od life, but depth of life Who is the author of the quote\",\n",
    "        \"option\": [\"A. Peterson\", \"B. Robert downey jr \", \"C. Ralph Waldo Emerson\", \"D. Akash Kumar\"],\n",
    "        \"answer\": \"C\"\n",
    "    },\n",
    "    {\n",
    "        \"Question\": \"It's not what happens to you,but how you react to it that matters\",\n",
    "        \"option\": [\"A. Epictetus\", \"B. Mark TwaiBn\", \"C. J.K. Rowling\", \"D. Ernest Hemingway\"],\n",
    "        \"answer\": \"A\"\n",
    "    }\n",
    "]\n",
    "score=0\n",
    "for questions in Questions:\n",
    "  print(questions[\"Question\"])\n",
    "  for option in questions[\"option\"]:\n",
    "    print(option)\n",
    "  answer= input(\"Enter your option => \")\n",
    "  if answer==questions[\"answer\"]:\n",
    "    print(\"You crack it. awesome!\\n\")\n",
    "    score+=1\n",
    "  else:\n",
    "    print(\"You didn't make it. Try next time\\n\")\n",
    "  print(f\"You score {score} a out of 4\")\n"
   ]
  }
 ],
 "metadata": {
  "kernelspec": {
   "display_name": "Python 3 (ipykernel)",
   "language": "python",
   "name": "python3"
  },
  "language_info": {
   "codemirror_mode": {
    "name": "ipython",
    "version": 3
   },
   "file_extension": ".py",
   "mimetype": "text/x-python",
   "name": "python",
   "nbconvert_exporter": "python",
   "pygments_lexer": "ipython3",
   "version": "3.12.4"
  }
 },
 "nbformat": 4,
 "nbformat_minor": 5
}
