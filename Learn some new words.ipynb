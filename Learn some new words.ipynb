{
 "cells": [
  {
   "cell_type": "code",
   "execution_count": 1,
   "id": "e5cc2e0b-8437-4ab6-9558-456b8714cfd2",
   "metadata": {},
   "outputs": [
    {
     "name": "stdout",
     "output_type": "stream",
     "text": [
      "Welcome to the Language learner\n"
     ]
    },
    {
     "name": "stdin",
     "output_type": "stream",
     "text": [
      "Press enter to start the game fff\n"
     ]
    },
    {
     "name": "stdout",
     "output_type": "stream",
     "text": [
      "What is the translation of 'Otooto'in english?\n"
     ]
    },
    {
     "name": "stdin",
     "output_type": "stream",
     "text": [
      "Your answer:  grt\n"
     ]
    },
    {
     "name": "stdout",
     "output_type": "stream",
     "text": [
      "No it's wrong dude! The translation is this 'Younger brother' of the word 'Otooto'.\n",
      "\n",
      "What is the translation of 'lie'in english?\n"
     ]
    },
    {
     "name": "stdin",
     "output_type": "stream",
     "text": [
      "Your answer:  trg\n"
     ]
    },
    {
     "name": "stdout",
     "output_type": "stream",
     "text": [
      "No it's wrong dude! The translation is this 'no' of the word 'lie'.\n",
      "\n",
      "What is the translation of 'Kudamono'in english?\n"
     ]
    },
    {
     "name": "stdin",
     "output_type": "stream",
     "text": [
      "Your answer:  \n"
     ]
    },
    {
     "name": "stdout",
     "output_type": "stream",
     "text": [
      "No it's wrong dude! The translation is this 'Fruits' of the word 'Kudamono'.\n",
      "\n",
      "What is the translation of 'Gohan'in english?\n"
     ]
    },
    {
     "name": "stdin",
     "output_type": "stream",
     "text": [
      "Your answer:  v\n"
     ]
    },
    {
     "name": "stdout",
     "output_type": "stream",
     "text": [
      "No it's wrong dude! The translation is this 'Rice' of the word 'Gohan'.\n",
      "\n",
      "What is the translation of 'Onegaishimas'in english?\n"
     ]
    },
    {
     "name": "stdin",
     "output_type": "stream",
     "text": [
      "Your answer:  gb\n"
     ]
    },
    {
     "name": "stdout",
     "output_type": "stream",
     "text": [
      "No it's wrong dude! The translation is this 'please' of the word 'Onegaishimas'.\n",
      "\n",
      "What is the translation of 'Onee-san'in english?\n"
     ]
    },
    {
     "name": "stdin",
     "output_type": "stream",
     "text": [
      "Your answer:  tg\n"
     ]
    },
    {
     "name": "stdout",
     "output_type": "stream",
     "text": [
      "No it's wrong dude! The translation is this 'Older Sister' of the word 'Onee-san'.\n",
      "\n",
      "What is the translation of 'Hai'in english?\n"
     ]
    },
    {
     "name": "stdin",
     "output_type": "stream",
     "text": [
      "Your answer:  tg\n"
     ]
    },
    {
     "name": "stdout",
     "output_type": "stream",
     "text": [
      "No it's wrong dude! The translation is this 'yes' of the word 'Hai'.\n",
      "\n",
      "What is the translation of 'Koohii'in english?\n"
     ]
    },
    {
     "name": "stdin",
     "output_type": "stream",
     "text": [
      "Your answer:  trg\n"
     ]
    },
    {
     "name": "stdout",
     "output_type": "stream",
     "text": [
      "No it's wrong dude! The translation is this 'Coffee' of the word 'Koohii'.\n",
      "\n",
      "What is the translation of 'Oni-san'in english?\n"
     ]
    },
    {
     "name": "stdin",
     "output_type": "stream",
     "text": [
      "Your answer:  \n"
     ]
    },
    {
     "name": "stdout",
     "output_type": "stream",
     "text": [
      "No it's wrong dude! The translation is this 'Older Brother' of the word 'Oni-san'.\n",
      "\n",
      "What is the translation of 'konnichiwa'in english?\n"
     ]
    },
    {
     "name": "stdin",
     "output_type": "stream",
     "text": [
      "Your answer:  g\n"
     ]
    },
    {
     "name": "stdout",
     "output_type": "stream",
     "text": [
      "No it's wrong dude! The translation is this 'Good afternoon' of the word 'konnichiwa'.\n",
      "\n",
      "What is the translation of 'Yasai'in english?\n"
     ]
    },
    {
     "name": "stdin",
     "output_type": "stream",
     "text": [
      "Your answer:  \n"
     ]
    },
    {
     "name": "stdout",
     "output_type": "stream",
     "text": [
      "No it's wrong dude! The translation is this 'Vegetables' of the word 'Yasai'.\n",
      "\n",
      "What is the translation of 'Otoko-no-hito'in english?\n"
     ]
    },
    {
     "name": "stdin",
     "output_type": "stream",
     "text": [
      "Your answer:  fv\n"
     ]
    },
    {
     "name": "stdout",
     "output_type": "stream",
     "text": [
      "No it's wrong dude! The translation is this 'Man' of the word 'Otoko-no-hito'.\n",
      "\n",
      "What is the translation of 'Arigato gozaimas'in english?\n"
     ]
    },
    {
     "name": "stdin",
     "output_type": "stream",
     "text": [
      "Your answer:  fv\n"
     ]
    },
    {
     "name": "stdout",
     "output_type": "stream",
     "text": [
      "No it's wrong dude! The translation is this 'Thank you' of the word 'Arigato gozaimas'.\n",
      "\n",
      "What is the translation of 'Imooto'in english?\n"
     ]
    },
    {
     "name": "stdin",
     "output_type": "stream",
     "text": [
      "Your answer:  fv\n"
     ]
    },
    {
     "name": "stdout",
     "output_type": "stream",
     "text": [
      "No it's wrong dude! The translation is this 'Younger sister' of the word 'Imooto'.\n",
      "\n",
      "What is the translation of 'mizu'in english?\n"
     ]
    },
    {
     "name": "stdin",
     "output_type": "stream",
     "text": [
      "Your answer:  fv\n"
     ]
    },
    {
     "name": "stdout",
     "output_type": "stream",
     "text": [
      "No it's wrong dude! The translation is this 'water' of the word 'mizu'.\n",
      "\n",
      "What is the translation of 'ohayoo gozaimas'in english?\n"
     ]
    },
    {
     "name": "stdin",
     "output_type": "stream",
     "text": [
      "Your answer:  f\n"
     ]
    },
    {
     "name": "stdout",
     "output_type": "stream",
     "text": [
      "No it's wrong dude! The translation is this 'Good morning' of the word 'ohayoo gozaimas'.\n",
      "\n",
      "What is the translation of 'Otona'in english?\n"
     ]
    },
    {
     "name": "stdin",
     "output_type": "stream",
     "text": [
      "Your answer:  vdf\n"
     ]
    },
    {
     "name": "stdout",
     "output_type": "stream",
     "text": [
      "No it's wrong dude! The translation is this 'adults ' of the word 'Otona'.\n",
      "\n",
      "What is the translation of 'Onna-no-hito'in english?\n"
     ]
    },
    {
     "name": "stdin",
     "output_type": "stream",
     "text": [
      "Your answer:  vf\n"
     ]
    },
    {
     "name": "stdout",
     "output_type": "stream",
     "text": [
      "No it's wrong dude! The translation is this 'Woman' of the word 'Onna-no-hito'.\n",
      "\n",
      "What is the translation of 'Sumimasen'in english?\n"
     ]
    },
    {
     "name": "stdin",
     "output_type": "stream",
     "text": [
      "Your answer:  vdf\n"
     ]
    },
    {
     "name": "stdout",
     "output_type": "stream",
     "text": [
      "No it's wrong dude! The translation is this 'Sorry' of the word 'Sumimasen'.\n",
      "\n",
      "What is the translation of 'dancho'in english?\n"
     ]
    },
    {
     "name": "stdin",
     "output_type": "stream",
     "text": [
      "Your answer:  vf\n"
     ]
    },
    {
     "name": "stdout",
     "output_type": "stream",
     "text": [
      "No it's wrong dude! The translation is this 'captain' of the word 'dancho'.\n",
      "\n",
      "What is the translation of 'Kodomo'in english?\n"
     ]
    },
    {
     "name": "stdin",
     "output_type": "stream",
     "text": [
      "Your answer:  \n"
     ]
    },
    {
     "name": "stdout",
     "output_type": "stream",
     "text": [
      "No it's wrong dude! The translation is this 'children' of the word 'Kodomo'.\n",
      "\n",
      "What is the translation of 'Konbanwa'in english?\n"
     ]
    },
    {
     "name": "stdin",
     "output_type": "stream",
     "text": [
      "Your answer:  \n"
     ]
    },
    {
     "name": "stdout",
     "output_type": "stream",
     "text": [
      "No it's wrong dude! The translation is this 'Good evening' of the word 'Konbanwa'.\n",
      "\n",
      "You completed the game! Your score is : 0/22\n"
     ]
    }
   ],
   "source": [
    "import random\n",
    "\n",
    "words = [\n",
    "    {\"japanese\": \"Hai\", \"english\": \"yes\"},\n",
    "    \n",
    "    {\"japanese\": \"lie\", \"english\": \"no\"},\n",
    "    \n",
    "    {\"japanese\": \"ohayoo gozaimas\", \"english\": \"Good morning\"},\n",
    "    \n",
    "    {\"japanese\": \"konnichiwa\", \"english\": \"Good afternoon\"},\n",
    "    \n",
    "    {\"japanese\": \"Arigato gozaimas\", \"english\": \"Thank you\"},\n",
    "    \n",
    "    {\"japanese\": \"Konbanwa\", \"english\": \"Good evening\"},\n",
    "    \n",
    "    {\"japanese\": \"Sumimasen\", \"english\": \"Sorry\"},\n",
    "    \n",
    "    {\"japanese\": \"dancho\", \"english\": \"captain\"},\n",
    "    \n",
    "    {\"japanese\": \"Onegaishimas\", \"english\": \"please\"},\n",
    "    \n",
    "    {\"japanese\": \"mizu\", \"english\": \"water\"},\n",
    "    \n",
    "    {\"japanese\": \"Otona\", \"english\": \"adults \"},\n",
    "    \n",
    "    {\"japanese\": \"Kodomo\", \"english\": \"children\"},\n",
    "    \n",
    "    {\"japanese\": \"Otoko-no-hito\", \"english\": \"Man\"},\n",
    "    \n",
    "    {\"japanese\": \"Onna-no-hito\", \"english\": \"Woman\"},\n",
    "    \n",
    "    {\"japanese\": \"Otooto\", \"english\": \"Younger brother\"},\n",
    "    \n",
    "    {\"japanese\": \"Imooto\", \"english\": \"Younger sister\"},\n",
    "    \n",
    "    {\"japanese\": \"Oni-san\", \"english\": \"Older Brother\"},\n",
    "    \n",
    "    {\"japanese\": \"Onee-san\", \"english\": \"Older Sister\"},\n",
    "    \n",
    "    {\"japanese\": \"Koohii\", \"english\":\"Coffee\"},\n",
    "    \n",
    "    {\"japanese\": \"Kudamono\", \"english\": \"Fruits\"},\n",
    "    \n",
    "    {\"japanese\": \"Yasai\", \"english\": \"Vegetables\"},\n",
    "    \n",
    "    {\"japanese\": \"Gohan\", \"english\": \"Rice\"}\n",
    "]\n",
    "\n",
    "def learn(words):\n",
    "    random.shuffle(words) \n",
    "    score = 0\n",
    "\n",
    "    for word in words:\n",
    "        print(f\"What is the translation of '{word['japanese']}'in english?\")\n",
    "        user_answer = input(\"Your answer: \").strip()\n",
    "        correct_answer = word['english']\n",
    "\n",
    "        if user_answer == correct_answer:\n",
    "            print(\"It's correct\\n\")\n",
    "            score += 1\n",
    "        else:\n",
    "            print(f\"No it's wrong dude! The translation is this '{word['english']}' of the word '{word['japanese']}'.\\n\")\n",
    "\n",
    "    print(f\"You completed the game! Your score is : {score}/{len(words)}\")\n",
    "\n",
    "def main():\n",
    "    print(\"Welcome to the Language learner\")\n",
    "    input(\"Press enter to start the game\")\n",
    "    learn(words)\n",
    "\n",
    "if __name__ == \"__main__\":\n",
    "    main()"
   ]
  },
  {
   "cell_type": "markdown",
   "id": "cce96057-4cb9-4cc3-b06e-c697499d331d",
   "metadata": {},
   "source": [
    "# Another game"
   ]
  },
  {
   "cell_type": "code",
   "execution_count": null,
   "id": "3fe69195-e8d6-4b61-974c-68e6b3d6d487",
   "metadata": {},
   "outputs": [],
   "source": []
  }
 ],
 "metadata": {
  "kernelspec": {
   "display_name": "Python 3 (ipykernel)",
   "language": "python",
   "name": "python3"
  },
  "language_info": {
   "codemirror_mode": {
    "name": "ipython",
    "version": 3
   },
   "file_extension": ".py",
   "mimetype": "text/x-python",
   "name": "python",
   "nbconvert_exporter": "python",
   "pygments_lexer": "ipython3",
   "version": "3.12.4"
  }
 },
 "nbformat": 4,
 "nbformat_minor": 5
}
