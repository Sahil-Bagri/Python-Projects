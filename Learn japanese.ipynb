{
 "cells": [
  {
   "cell_type": "markdown",
   "id": "b79eb84f-a2d2-4c68-9b59-421c3bcb3b8a",
   "metadata": {},
   "source": [
    "# This is a game in this you will find some common useable words of japanese language and you have to translate it to english\n",
    "Functions used \n",
    "-- In this file you see list, dictionary, def function,conditional statement , random with shuffle , next line command and f-strings ."
   ]
  },
  {
   "cell_type": "code",
   "execution_count": 2,
   "id": "e5cc2e0b-8437-4ab6-9558-456b8714cfd2",
   "metadata": {},
   "outputs": [
    {
     "name": "stdout",
     "output_type": "stream",
     "text": [
      "Welcome yuri \n",
      "It is the Language learner game.\n",
      "Here you see some basic commonly used japanese words you have to translate them to english\n"
     ]
    },
    {
     "name": "stdin",
     "output_type": "stream",
     "text": [
      "Press enter to start the game \n"
     ]
    },
    {
     "name": "stdout",
     "output_type": "stream",
     "text": [
      "What is the translation of ohayoo gozaimas in english?\n"
     ]
    },
    {
     "name": "stdin",
     "output_type": "stream",
     "text": [
      "Your answer:  Good morning\n"
     ]
    },
    {
     "name": "stdout",
     "output_type": "stream",
     "text": [
      "It's correct good job\n",
      "\n",
      "What is the translation of konnichiwa in english?\n"
     ]
    },
    {
     "name": "stdin",
     "output_type": "stream",
     "text": [
      "Your answer:  Good afternoon\n"
     ]
    },
    {
     "name": "stdout",
     "output_type": "stream",
     "text": [
      "It's correct good job\n",
      "\n",
      "What is the translation of Konbanwa in english?\n"
     ]
    },
    {
     "name": "stdin",
     "output_type": "stream",
     "text": [
      "Your answer:  Good evening\n"
     ]
    },
    {
     "name": "stdout",
     "output_type": "stream",
     "text": [
      "It's correct good job\n",
      "\n",
      "What is the translation of Onegaishimas in english?\n"
     ]
    },
    {
     "name": "stdin",
     "output_type": "stream",
     "text": [
      "Your answer:  Please\n"
     ]
    },
    {
     "name": "stdout",
     "output_type": "stream",
     "text": [
      "It's correct good job\n",
      "\n",
      "What is the translation of Oni-san in english?\n"
     ]
    },
    {
     "name": "stdin",
     "output_type": "stream",
     "text": [
      "Your answer:  Older brother\n"
     ]
    },
    {
     "name": "stdout",
     "output_type": "stream",
     "text": [
      "It's correct good job\n",
      "\n",
      "What is the translation of Sumimasen in english?\n"
     ]
    },
    {
     "name": "stdin",
     "output_type": "stream",
     "text": [
      "Your answer:  Sorry\n"
     ]
    },
    {
     "name": "stdout",
     "output_type": "stream",
     "text": [
      "It's correct good job\n",
      "\n",
      "What is the translation of Otoko-no-hito in english?\n"
     ]
    },
    {
     "name": "stdin",
     "output_type": "stream",
     "text": [
      "Your answer:  Man\n"
     ]
    },
    {
     "name": "stdout",
     "output_type": "stream",
     "text": [
      "It's correct good job\n",
      "\n",
      "What is the translation of Otooto in english?\n"
     ]
    },
    {
     "name": "stdin",
     "output_type": "stream",
     "text": [
      "Your answer:  Younger brother\n"
     ]
    },
    {
     "name": "stdout",
     "output_type": "stream",
     "text": [
      "It's correct good job\n",
      "\n",
      "What is the translation of Otona in english?\n"
     ]
    },
    {
     "name": "stdin",
     "output_type": "stream",
     "text": [
      "Your answer:  Adults\n"
     ]
    },
    {
     "name": "stdout",
     "output_type": "stream",
     "text": [
      "It's correct good job\n",
      "\n",
      "What is the translation of Onee-san in english?\n"
     ]
    },
    {
     "name": "stdin",
     "output_type": "stream",
     "text": [
      "Your answer:  Older sister\n"
     ]
    },
    {
     "name": "stdout",
     "output_type": "stream",
     "text": [
      "It's correct good job\n",
      "\n",
      "What is the translation of Koohii in english?\n"
     ]
    },
    {
     "name": "stdin",
     "output_type": "stream",
     "text": [
      "Your answer:  Coffee\n"
     ]
    },
    {
     "name": "stdout",
     "output_type": "stream",
     "text": [
      "It's correct good job\n",
      "\n",
      "What is the translation of Onna-no-hito in english?\n"
     ]
    },
    {
     "name": "stdin",
     "output_type": "stream",
     "text": [
      "Your answer:  Woman\n"
     ]
    },
    {
     "name": "stdout",
     "output_type": "stream",
     "text": [
      "It's correct good job\n",
      "\n",
      "What is the translation of Arigato gozaimas in english?\n"
     ]
    },
    {
     "name": "stdin",
     "output_type": "stream",
     "text": [
      "Your answer:  Thank you\n"
     ]
    },
    {
     "name": "stdout",
     "output_type": "stream",
     "text": [
      "It's correct good job\n",
      "\n",
      "What is the translation of Yasai in english?\n"
     ]
    },
    {
     "name": "stdin",
     "output_type": "stream",
     "text": [
      "Your answer:  Vegetables\n"
     ]
    },
    {
     "name": "stdout",
     "output_type": "stream",
     "text": [
      "It's correct good job\n",
      "\n",
      "What is the translation of Imooto in english?\n"
     ]
    },
    {
     "name": "stdin",
     "output_type": "stream",
     "text": [
      "Your answer:  Younger sister\n"
     ]
    },
    {
     "name": "stdout",
     "output_type": "stream",
     "text": [
      "It's correct good job\n",
      "\n",
      "What is the translation of Kudamono in english?\n"
     ]
    },
    {
     "name": "stdin",
     "output_type": "stream",
     "text": [
      "Your answer:  Fruits\n"
     ]
    },
    {
     "name": "stdout",
     "output_type": "stream",
     "text": [
      "It's correct good job\n",
      "\n",
      "What is the translation of lie in english?\n"
     ]
    },
    {
     "name": "stdin",
     "output_type": "stream",
     "text": [
      "Your answer:  No\n"
     ]
    },
    {
     "name": "stdout",
     "output_type": "stream",
     "text": [
      "It's correct good job\n",
      "\n",
      "What is the translation of mizu in english?\n"
     ]
    },
    {
     "name": "stdin",
     "output_type": "stream",
     "text": [
      "Your answer:  Water\n"
     ]
    },
    {
     "name": "stdout",
     "output_type": "stream",
     "text": [
      "It's correct good job\n",
      "\n",
      "What is the translation of Hai in english?\n"
     ]
    },
    {
     "name": "stdin",
     "output_type": "stream",
     "text": [
      "Your answer:  Yes\n"
     ]
    },
    {
     "name": "stdout",
     "output_type": "stream",
     "text": [
      "It's correct good job\n",
      "\n",
      "What is the translation of dancho in english?\n"
     ]
    },
    {
     "name": "stdin",
     "output_type": "stream",
     "text": [
      "Your answer:  Captain\n"
     ]
    },
    {
     "name": "stdout",
     "output_type": "stream",
     "text": [
      "It's correct good job\n",
      "\n",
      "What is the translation of Gohan in english?\n"
     ]
    },
    {
     "name": "stdin",
     "output_type": "stream",
     "text": [
      "Your answer:  Rice\n"
     ]
    },
    {
     "name": "stdout",
     "output_type": "stream",
     "text": [
      "It's correct good job\n",
      "\n",
      "What is the translation of Kodomo in english?\n"
     ]
    },
    {
     "name": "stdin",
     "output_type": "stream",
     "text": [
      "Your answer:  Children\n"
     ]
    },
    {
     "name": "stdout",
     "output_type": "stream",
     "text": [
      "It's correct good job\n",
      "\n",
      "Game is over!! You score: 22 out of 22\n"
     ]
    }
   ],
   "source": [
    "import random\n",
    "\n",
    "words = [\n",
    "    {\"japanese\": \"Hai\", \"english\": \"Yes\"},\n",
    "    \n",
    "    {\"japanese\": \"lie\", \"english\": \"No\"},\n",
    "    \n",
    "    {\"japanese\": \"ohayoo gozaimas\", \"english\": \"Good morning\"},\n",
    "    \n",
    "    {\"japanese\": \"konnichiwa\", \"english\": \"Good afternoon\"},\n",
    "    \n",
    "    {\"japanese\": \"Arigato gozaimas\", \"english\": \"Thank you\"},\n",
    "    \n",
    "    {\"japanese\": \"Konbanwa\", \"english\": \"Good evening\"},\n",
    "    \n",
    "    {\"japanese\": \"Sumimasen\", \"english\": \"Sorry\"},\n",
    "    \n",
    "    {\"japanese\": \"dancho\", \"english\": \"Captain\"},\n",
    "    \n",
    "    {\"japanese\": \"Onegaishimas\", \"english\": \"Please\"},\n",
    "    \n",
    "    {\"japanese\": \"mizu\", \"english\": \"Water\"},\n",
    "    \n",
    "    {\"japanese\": \"Otona\", \"english\": \"Adults\"},\n",
    "    \n",
    "    {\"japanese\": \"Kodomo\", \"english\": \"Children\"},\n",
    "    \n",
    "    {\"japanese\": \"Otoko-no-hito\", \"english\": \"Man\"},\n",
    "    \n",
    "    {\"japanese\": \"Onna-no-hito\", \"english\": \"Woman\"},\n",
    "    \n",
    "    {\"japanese\": \"Otooto\", \"english\": \"Younger brother\"},\n",
    "    \n",
    "    {\"japanese\": \"Imooto\", \"english\": \"Younger sister\"},\n",
    "    \n",
    "    {\"japanese\": \"Oni-san\", \"english\": \"Older brother\"},\n",
    "    \n",
    "    {\"japanese\": \"Onee-san\", \"english\": \"Older sister\"},\n",
    "    \n",
    "    {\"japanese\": \"Koohii\", \"english\":\"Coffee\"},\n",
    "    \n",
    "    {\"japanese\": \"Kudamono\", \"english\": \"Fruits\"},\n",
    "    \n",
    "    {\"japanese\": \"Yasai\", \"english\": \"Vegetables\"},\n",
    "    \n",
    "    {\"japanese\": \"Gohan\", \"english\": \"Rice\"}\n",
    "]\n",
    "\n",
    "def game(words):\n",
    "    random.shuffle(words) \n",
    "    score = 0\n",
    "\n",
    "    for word in words:\n",
    "        print(f\"What is the translation of {word['japanese']} in english?\")\n",
    "        your_answer = input(\"Your answer: \").strip()\n",
    "        correct_answer = word['english']\n",
    "\n",
    "        if your_answer == correct_answer:\n",
    "            print(\"It's correct good job\\n\")\n",
    "            score += 1\n",
    "        else:\n",
    "            print(f\"Nope it's wrong! The translation of {word['japanese']} is {word['english']} in english\\n\")\n",
    "\n",
    "    print(f\"Game is over!! You score: {score} out of {len(words)}\")\n",
    "\n",
    "def main():\n",
    "    print(\"Welcome yuri \\nIt is the Language learner game.\\nHere you see some basic commonly used japanese words you have to translate them to english\")\n",
    "    input(\"Press enter to start the game\")\n",
    "    game(words)\n",
    "\n",
    "if __name__ == \"__main__\":\n",
    "    main()"
   ]
  },
  {
   "cell_type": "code",
   "execution_count": null,
   "id": "28fed0fe-e29a-4e98-912a-3437b4d2f999",
   "metadata": {},
   "outputs": [],
   "source": []
  }
 ],
 "metadata": {
  "kernelspec": {
   "display_name": "Python 3 (ipykernel)",
   "language": "python",
   "name": "python3"
  },
  "language_info": {
   "codemirror_mode": {
    "name": "ipython",
    "version": 3
   },
   "file_extension": ".py",
   "mimetype": "text/x-python",
   "name": "python",
   "nbconvert_exporter": "python",
   "pygments_lexer": "ipython3",
   "version": "3.12.4"
  }
 },
 "nbformat": 4,
 "nbformat_minor": 5
}
