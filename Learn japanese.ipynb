{
 "cells": [
  {
   "cell_type": "code",
   "execution_count": 5,
   "id": "e5cc2e0b-8437-4ab6-9558-456b8714cfd2",
   "metadata": {},
   "outputs": [
    {
     "name": "stdout",
     "output_type": "stream",
     "text": [
      "Welcome yuri \n",
      "It is the Language learner game. Here you see some basic commonly used japanese words you have to translate them to english\n"
     ]
    },
    {
     "name": "stdin",
     "output_type": "stream",
     "text": [
      "Press enter to start the game rr\n"
     ]
    },
    {
     "name": "stdout",
     "output_type": "stream",
     "text": [
      "What is the translation of Kudamonoin english?\n"
     ]
    },
    {
     "name": "stdin",
     "output_type": "stream",
     "text": [
      "Your answer:  vv\n"
     ]
    },
    {
     "name": "stdout",
     "output_type": "stream",
     "text": [
      "Nope it's wrong! The translation of Kudamono is Fruits in english\n",
      "\n",
      "What is the translation of Koohiiin english?\n"
     ]
    },
    {
     "name": "stdin",
     "output_type": "stream",
     "text": [
      "Your answer:  v\n"
     ]
    },
    {
     "name": "stdout",
     "output_type": "stream",
     "text": [
      "Nope it's wrong! The translation of Koohii is Coffee in english\n",
      "\n",
      "What is the translation of Yasaiin english?\n"
     ]
    },
    {
     "name": "stdin",
     "output_type": "stream",
     "text": [
      "Your answer:  vv\n"
     ]
    },
    {
     "name": "stdout",
     "output_type": "stream",
     "text": [
      "Nope it's wrong! The translation of Yasai is Vegetables in english\n",
      "\n",
      "What is the translation of Imootoin english?\n"
     ]
    },
    {
     "name": "stdin",
     "output_type": "stream",
     "text": [
      "Your answer:  v\n"
     ]
    },
    {
     "name": "stdout",
     "output_type": "stream",
     "text": [
      "Nope it's wrong! The translation of Imooto is Younger sister in english\n",
      "\n",
      "What is the translation of ohayoo gozaimasin english?\n"
     ]
    },
    {
     "name": "stdin",
     "output_type": "stream",
     "text": [
      "Your answer:  v\n"
     ]
    },
    {
     "name": "stdout",
     "output_type": "stream",
     "text": [
      "Nope it's wrong! The translation of ohayoo gozaimas is Good morning in english\n",
      "\n",
      "What is the translation of mizuin english?\n"
     ]
    },
    {
     "name": "stdin",
     "output_type": "stream",
     "text": [
      "Your answer:  v\n"
     ]
    },
    {
     "name": "stdout",
     "output_type": "stream",
     "text": [
      "Nope it's wrong! The translation of mizu is water in english\n",
      "\n",
      "What is the translation of Onna-no-hitoin english?\n"
     ]
    },
    {
     "name": "stdin",
     "output_type": "stream",
     "text": [
      "Your answer:  v\n"
     ]
    },
    {
     "name": "stdout",
     "output_type": "stream",
     "text": [
      "Nope it's wrong! The translation of Onna-no-hito is Woman in english\n",
      "\n",
      "What is the translation of Otonain english?\n"
     ]
    },
    {
     "name": "stdin",
     "output_type": "stream",
     "text": [
      "Your answer:  \n"
     ]
    },
    {
     "name": "stdout",
     "output_type": "stream",
     "text": [
      "Nope it's wrong! The translation of Otona is adults  in english\n",
      "\n",
      "What is the translation of Oni-sanin english?\n"
     ]
    },
    {
     "name": "stdin",
     "output_type": "stream",
     "text": [
      "Your answer:  v\n"
     ]
    },
    {
     "name": "stdout",
     "output_type": "stream",
     "text": [
      "Nope it's wrong! The translation of Oni-san is Older Brother in english\n",
      "\n",
      "What is the translation of Konbanwain english?\n"
     ]
    },
    {
     "name": "stdin",
     "output_type": "stream",
     "text": [
      "Your answer:  \n"
     ]
    },
    {
     "name": "stdout",
     "output_type": "stream",
     "text": [
      "Nope it's wrong! The translation of Konbanwa is Good evening in english\n",
      "\n",
      "What is the translation of Kodomoin english?\n"
     ]
    },
    {
     "name": "stdin",
     "output_type": "stream",
     "text": [
      "Your answer:  \n"
     ]
    },
    {
     "name": "stdout",
     "output_type": "stream",
     "text": [
      "Nope it's wrong! The translation of Kodomo is children in english\n",
      "\n",
      "What is the translation of Onegaishimasin english?\n"
     ]
    },
    {
     "name": "stdin",
     "output_type": "stream",
     "text": [
      "Your answer:  \n"
     ]
    },
    {
     "name": "stdout",
     "output_type": "stream",
     "text": [
      "Nope it's wrong! The translation of Onegaishimas is please in english\n",
      "\n",
      "What is the translation of Otoko-no-hitoin english?\n"
     ]
    },
    {
     "name": "stdin",
     "output_type": "stream",
     "text": [
      "Your answer:  v\n"
     ]
    },
    {
     "name": "stdout",
     "output_type": "stream",
     "text": [
      "Nope it's wrong! The translation of Otoko-no-hito is Man in english\n",
      "\n",
      "What is the translation of Onee-sanin english?\n"
     ]
    },
    {
     "name": "stdin",
     "output_type": "stream",
     "text": [
      "Your answer:  \n"
     ]
    },
    {
     "name": "stdout",
     "output_type": "stream",
     "text": [
      "Nope it's wrong! The translation of Onee-san is Older Sister in english\n",
      "\n",
      "What is the translation of Haiin english?\n"
     ]
    },
    {
     "name": "stdin",
     "output_type": "stream",
     "text": [
      "Your answer:  \n"
     ]
    },
    {
     "name": "stdout",
     "output_type": "stream",
     "text": [
      "Nope it's wrong! The translation of Hai is yes in english\n",
      "\n",
      "What is the translation of Sumimasenin english?\n"
     ]
    },
    {
     "name": "stdin",
     "output_type": "stream",
     "text": [
      "Your answer:  v\n"
     ]
    },
    {
     "name": "stdout",
     "output_type": "stream",
     "text": [
      "Nope it's wrong! The translation of Sumimasen is Sorry in english\n",
      "\n",
      "What is the translation of konnichiwain english?\n"
     ]
    },
    {
     "name": "stdin",
     "output_type": "stream",
     "text": [
      "Your answer:  \n"
     ]
    },
    {
     "name": "stdout",
     "output_type": "stream",
     "text": [
      "Nope it's wrong! The translation of konnichiwa is Good afternoon in english\n",
      "\n",
      "What is the translation of danchoin english?\n"
     ]
    },
    {
     "name": "stdin",
     "output_type": "stream",
     "text": [
      "Your answer:  \n"
     ]
    },
    {
     "name": "stdout",
     "output_type": "stream",
     "text": [
      "Nope it's wrong! The translation of dancho is captain in english\n",
      "\n",
      "What is the translation of Gohanin english?\n"
     ]
    },
    {
     "name": "stdin",
     "output_type": "stream",
     "text": [
      "Your answer:  \n"
     ]
    },
    {
     "name": "stdout",
     "output_type": "stream",
     "text": [
      "Nope it's wrong! The translation of Gohan is Rice in english\n",
      "\n",
      "What is the translation of liein english?\n"
     ]
    },
    {
     "name": "stdin",
     "output_type": "stream",
     "text": [
      "Your answer:  v\n"
     ]
    },
    {
     "name": "stdout",
     "output_type": "stream",
     "text": [
      "Nope it's wrong! The translation of lie is no in english\n",
      "\n",
      "What is the translation of Arigato gozaimasin english?\n"
     ]
    },
    {
     "name": "stdin",
     "output_type": "stream",
     "text": [
      "Your answer:  v\n"
     ]
    },
    {
     "name": "stdout",
     "output_type": "stream",
     "text": [
      "Nope it's wrong! The translation of Arigato gozaimas is Thank you in english\n",
      "\n",
      "What is the translation of Otootoin english?\n"
     ]
    },
    {
     "name": "stdin",
     "output_type": "stream",
     "text": [
      "Your answer:  \n"
     ]
    },
    {
     "name": "stdout",
     "output_type": "stream",
     "text": [
      "Nope it's wrong! The translation of Otooto is Younger brother in english\n",
      "\n",
      "Game is over!! You score: 0 out of 22\n"
     ]
    }
   ],
   "source": [
    "import random\n",
    "\n",
    "words = [\n",
    "    {\"japanese\": \"Hai\", \"english\": \"yes\"},\n",
    "    \n",
    "    {\"japanese\": \"lie\", \"english\": \"no\"},\n",
    "    \n",
    "    {\"japanese\": \"ohayoo gozaimas\", \"english\": \"Good morning\"},\n",
    "    \n",
    "    {\"japanese\": \"konnichiwa\", \"english\": \"Good afternoon\"},\n",
    "    \n",
    "    {\"japanese\": \"Arigato gozaimas\", \"english\": \"Thank you\"},\n",
    "    \n",
    "    {\"japanese\": \"Konbanwa\", \"english\": \"Good evening\"},\n",
    "    \n",
    "    {\"japanese\": \"Sumimasen\", \"english\": \"Sorry\"},\n",
    "    \n",
    "    {\"japanese\": \"dancho\", \"english\": \"captain\"},\n",
    "    \n",
    "    {\"japanese\": \"Onegaishimas\", \"english\": \"please\"},\n",
    "    \n",
    "    {\"japanese\": \"mizu\", \"english\": \"water\"},\n",
    "    \n",
    "    {\"japanese\": \"Otona\", \"english\": \"adults \"},\n",
    "    \n",
    "    {\"japanese\": \"Kodomo\", \"english\": \"children\"},\n",
    "    \n",
    "    {\"japanese\": \"Otoko-no-hito\", \"english\": \"Man\"},\n",
    "    \n",
    "    {\"japanese\": \"Onna-no-hito\", \"english\": \"Woman\"},\n",
    "    \n",
    "    {\"japanese\": \"Otooto\", \"english\": \"Younger brother\"},\n",
    "    \n",
    "    {\"japanese\": \"Imooto\", \"english\": \"Younger sister\"},\n",
    "    \n",
    "    {\"japanese\": \"Oni-san\", \"english\": \"Older Brother\"},\n",
    "    \n",
    "    {\"japanese\": \"Onee-san\", \"english\": \"Older Sister\"},\n",
    "    \n",
    "    {\"japanese\": \"Koohii\", \"english\":\"Coffee\"},\n",
    "    \n",
    "    {\"japanese\": \"Kudamono\", \"english\": \"Fruits\"},\n",
    "    \n",
    "    {\"japanese\": \"Yasai\", \"english\": \"Vegetables\"},\n",
    "    \n",
    "    {\"japanese\": \"Gohan\", \"english\": \"Rice\"}\n",
    "]\n",
    "\n",
    "def game(words):\n",
    "    random.shuffle(words) \n",
    "    score = 0\n",
    "\n",
    "    for word in words:\n",
    "        print(f\"What is the translation of {word['japanese']}in english?\")\n",
    "        your_answer = input(\"Your answer: \").strip()\n",
    "        correct_answer = word['english']\n",
    "\n",
    "        if your_answer == correct_answer:\n",
    "            print(\"It's correct good job\\n\")\n",
    "            score += 1\n",
    "        else:\n",
    "            print(f\"Nope it's wrong! The translation of {word['japanese']} is {word['english']} in english\\n\")\n",
    "\n",
    "    print(f\"Game is over!! You score: {score} out of {len(words)}\")\n",
    "\n",
    "def main():\n",
    "    print(\"Welcome yuri \\nIt is the Language learner game. Here you see some basic commonly used japanese words you have to translate them to english\")\n",
    "    input(\"Press enter to start the game\")\n",
    "    game(words)\n",
    "\n",
    "if __name__ == \"__main__\":\n",
    "    main()"
   ]
  },
  {
   "cell_type": "code",
   "execution_count": null,
   "id": "3fe69195-e8d6-4b61-974c-68e6b3d6d487",
   "metadata": {},
   "outputs": [],
   "source": []
  },
  {
   "cell_type": "code",
   "execution_count": null,
   "id": "9ab1e167-e5a6-4068-821e-497425f0d7cb",
   "metadata": {},
   "outputs": [],
   "source": []
  }
 ],
 "metadata": {
  "kernelspec": {
   "display_name": "Python 3 (ipykernel)",
   "language": "python",
   "name": "python3"
  },
  "language_info": {
   "codemirror_mode": {
    "name": "ipython",
    "version": 3
   },
   "file_extension": ".py",
   "mimetype": "text/x-python",
   "name": "python",
   "nbconvert_exporter": "python",
   "pygments_lexer": "ipython3",
   "version": "3.12.4"
  }
 },
 "nbformat": 4,
 "nbformat_minor": 5
}
